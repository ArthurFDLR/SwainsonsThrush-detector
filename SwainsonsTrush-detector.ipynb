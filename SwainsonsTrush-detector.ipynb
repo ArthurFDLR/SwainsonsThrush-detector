{
 "metadata": {
  "language_info": {
   "codemirror_mode": {
    "name": "ipython",
    "version": 3
   },
   "file_extension": ".py",
   "mimetype": "text/x-python",
   "name": "python",
   "nbconvert_exporter": "python",
   "pygments_lexer": "ipython3",
   "version": "3.7.9-final"
  },
  "orig_nbformat": 2,
  "kernelspec": {
   "name": "Python 3.7.9 64-bit",
   "display_name": "Python 3.7.9 64-bit",
   "metadata": {
    "interpreter": {
     "hash": "0600588c3b5f4418cbe7b5ebc6825b479f3bc010269d8b60d75058cdd010adfe"
    }
   }
  }
 },
 "nbformat": 4,
 "nbformat_minor": 2,
 "cells": [
  {
   "source": [
    "# Swainson's Thrush call detector"
   ],
   "cell_type": "markdown",
   "metadata": {}
  },
  {
   "source": [
    "The **GLRT** (Generalized Likelihood Ratio Test) is a general procedure for composite testing problems. The basic idea\n",
    "is to compare the likelihood of two hypotheses $H_0$ and $H_1$ for a given sequence of values $\\{x(n)\\}_{n = 1 \\dots N}$.\n",
    "\n",
    "This notebook implement this procedure for the detection of Swainson's Thrush call."
   ],
   "cell_type": "markdown",
   "metadata": {}
  },
  {
   "cell_type": "code",
   "execution_count": 31,
   "metadata": {},
   "outputs": [
    {
     "output_type": "execute_result",
     "data": {
      "text/plain": [
       "WindowsPath('.')"
      ]
     },
     "metadata": {},
     "execution_count": 31
    }
   ],
   "source": [
    "import os\n",
    "import pathlib\n",
    "import scipy.io.wavfile\n",
    "import scipy.signal\n",
    "import numpy as np\n",
    "from tqdm import tqdm\n",
    "import matplotlib.pyplot as plt\n",
    "import IPython.display as ipd\n",
    "\n",
    "plt.style.use('ggplot')\n",
    "\n",
    "REPOSITORY_PATH = pathlib.Path('').parent\n",
    "REPOSITORY_PATH"
   ]
  },
  {
   "cell_type": "code",
   "execution_count": 32,
   "metadata": {},
   "outputs": [
    {
     "output_type": "execute_result",
     "data": {
      "text/plain": [
       "WindowsPath('audio_files/signals/nature_1.wav')"
      ]
     },
     "metadata": {},
     "execution_count": 32
    }
   ],
   "source": [
    "ipd.Audio(REPOSITORY_PATH / 'audio_files' / 'signals' / 'nature_1.wav') # load a local WAV file\n",
    "REPOSITORY_PATH / 'audio_files' / 'signals' / 'nature_1.wav'"
   ]
  },
  {
   "cell_type": "code",
   "execution_count": 33,
   "metadata": {},
   "outputs": [],
   "source": [
    "def ln_GLRT(s_array:np.ndarray, x_array:np.ndarray) -> np.ndarray:\n",
    "    \"\"\" Compute the value of natural logarithm of the generalized likelihood ratio along the signal x_array using the template s_array.\n",
    "\n",
    "    Args:\n",
    "        s_array (np.ndarray): Template to detect\n",
    "        x_array (np.ndarray): Signal to analyze\n",
    "\n",
    "    Returns:\n",
    "        np.ndarray: Natural logarithm of the generalized likelihood ratio test\n",
    "    \"\"\"\n",
    "    assert s_array.ndim == x_array.ndim == 1\n",
    "    N = s_array.shape[0]\n",
    "\n",
    "    GLRT_out = []\n",
    "\n",
    "    for n_0 in tqdm(range(x_array.shape[0] - N), desc='GLR Computation'):\n",
    "        x_array_truncate = x_array[n_0:n_0+N]\n",
    "\n",
    "        A_MLE = np.sum(np.multiply(s_array,x_array_truncate)) / np.sum(np.square(s_array))\n",
    "\n",
    "        sigma2_0_MLE = np.average(np.square(x_array_truncate))\n",
    "        \n",
    "        sigma2_1_MLE = np.average(np.square(x_array_truncate - (A_MLE * s_array)))\n",
    "\n",
    "        GLRT_out.append( (N/2.0) * (np.log(sigma2_0_MLE) -  np.log(sigma2_1_MLE)) )\n",
    "    \n",
    "    return np.array(GLRT_out)"
   ]
  },
  {
   "cell_type": "code",
   "execution_count": 34,
   "metadata": {},
   "outputs": [],
   "source": [
    "def multipass_lnGLRT(s_array:np.ndarray, x_array:np.ndarray, nbr_pass:int, treshold:float) -> np.ndarray:\n",
    "\n",
    "    s_array_size = s_array.shape[0]\n",
    "    template_array = s_array\n",
    "\n",
    "    for i in range(nbr_pass):\n",
    "\n",
    "        signal_lnGLRT = ln_GLRT(template_array, x_array)\n",
    "        \n",
    "        positions_detected, properties = scipy.signal.find_peaks(signal_lnGLRT, threshold=treshold, distance = s_array_size)\n",
    "\n",
    "        template_array = np.mean([x_array[pos : pos + s_array_size] for pos in positions_detected ], axis=0)\n",
    "    \n",
    "    return signal_lnGLRT, positions_detected"
   ]
  },
  {
   "cell_type": "code",
   "execution_count": 35,
   "metadata": {},
   "outputs": [],
   "source": [
    "def draw_signal_analysis(template_URL:str, signal_URL:str):\n",
    "    fig, ax = plt.subplots()\n",
    "\n",
    "    # Read wav files\n",
    "    template_samplerate, template_WAV = scipy.io.wavfile.read(template_URL)\n",
    "    signal_samplerate, signal_WAV = scipy.io.wavfile.read(signal_URL)\n",
    "    assert template_samplerate == signal_samplerate\n",
    "\n",
    "    # Get Likelihood ratio\n",
    "    signal_lnGLRT, positions_detected = multipass_lnGLRT(template_WAV, signal_WAV, nbr_pass=1, treshold=20)\n",
    "    print(\"Template detected (seconds):\", positions_detected/signal_samplerate)\n",
    "\n",
    "    # Draw plot\n",
    "    signal_timeline = np.linspace(0, signal_WAV.shape[0]/signal_samplerate, signal_WAV.shape[0])\n",
    "    signal_lnGLRT_timeline = np.linspace(0, signal_lnGLRT.shape[0]/signal_samplerate, signal_lnGLRT.shape[0])\n",
    "\n",
    "    ax_bis = ax.twinx()\n",
    "\n",
    "    ax.plot(signal_timeline, signal_WAV, color='grey', alpha=.3, linewidth=.2)\n",
    "    ax_bis.plot(signal_lnGLRT_timeline, signal_lnGLRT, color='#62a2f5', linewidth=1.5)\n",
    "\n",
    "    ax.set_xlabel(r'Time $t$ $[s]$')\n",
    "    ax_bis.set_ylabel(r'$\\ln(L_G(t))$', color='#1f6dd1')\n",
    "    ax.set_ylabel(r'Analyzed signal')\n",
    "\n",
    "    plt.show()"
   ]
  },
  {
   "cell_type": "code",
   "execution_count": 36,
   "metadata": {},
   "outputs": [
    {
     "output_type": "execute_result",
     "data": {
      "text/plain": [
       "<IPython.lib.display.Audio object>"
      ],
      "text/html": "\n                <audio  controls=\"controls\" >\n                    <source src=\"data:audio/wav;base64,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\" type=\"audio/wav\" />\n                    Your browser does not support the audio element.\n                </audio>\n              "
     },
     "metadata": {},
     "execution_count": 36
    }
   ],
   "source": [
    "template_path = REPOSITORY_PATH / 'audio_files' / 'template' / 'call_2.wav'\n",
    "signal_path = REPOSITORY_PATH / 'audio_files' / 'signals' / 'nature_1.wav'\n",
    "\n",
    "template_samplerate, template_WAV = scipy.io.wavfile.read(template_path)\n",
    "signal_samplerate, signal_WAV = scipy.io.wavfile.read(signal_path)\n",
    "\n",
    "ipd.Audio(template_WAV, rate=template_samplerate)\n",
    "#draw_signal_analysis(template_path, signal_path)"
   ]
  }
 ]
}